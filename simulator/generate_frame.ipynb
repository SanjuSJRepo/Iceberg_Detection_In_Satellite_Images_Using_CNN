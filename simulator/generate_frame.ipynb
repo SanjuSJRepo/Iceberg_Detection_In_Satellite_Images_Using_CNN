{
  "nbformat": 4,
  "nbformat_minor": 0,
  "metadata": {
    "colab": {
      "provenance": []
    },
    "kernelspec": {
      "name": "python3",
      "display_name": "Python 3"
    },
    "language_info": {
      "name": "python"
    }
  },
  "cells": [
    {
      "cell_type": "code",
      "source": [
        "import numpy as np\n",
        "import cv2"
      ],
      "metadata": {
        "id": "s1Ke9KM3ep-4"
      },
      "execution_count": null,
      "outputs": []
    },
    {
      "cell_type": "code",
      "execution_count": 1,
      "metadata": {
        "colab": {
          "base_uri": "https://localhost:8080/"
        },
        "id": "aOTiKw0aKWiZ",
        "outputId": "35abe49d-560b-4d4c-c322-d23b0343b20c"
      },
      "outputs": [
        {
          "output_type": "stream",
          "name": "stdout",
          "text": [
            "(409, 608, 3)\n"
          ]
        }
      ],
      "source": [
        "image = cv2.imread(\"/content/Frame.png\")\n",
        "image_matrix = cv2.cvtColor(image, cv2.COLOR_BGR2RGB)\n",
        "print(image_matrix.shape)"
      ]
    },
    {
      "cell_type": "code",
      "source": [
        "shape = 409//32, 608//32\n",
        "matrix = np.ones((shape)).astype(np.uint8)\n",
        "indices_to_change = [\n",
        "    (2, 8), (2, 9), (4, 7), (3, 11), (5, 11),\n",
        "    (6, 6), (7, 6), (6, 7), (8, 9), (9, 8),\n",
        "    (9, 9), (9, 6), (9, 11), (7, 13)\n",
        "]\n",
        "\n",
        "for row, col in indices_to_change:\n",
        "    matrix[row, col] = 0\n",
        "\n",
        "matrix = np.array2string(matrix, separator=', ')\n",
        "print(matrix)"
      ],
      "metadata": {
        "colab": {
          "base_uri": "https://localhost:8080/"
        },
        "id": "KcTMVxVTNDkU",
        "outputId": "b723f31e-bb7b-4744-91ac-8b0120a805c9"
      },
      "execution_count": 33,
      "outputs": [
        {
          "output_type": "stream",
          "name": "stdout",
          "text": [
            "[[1, 1, 1, 1, 1, 1, 1, 1, 1, 1, 1, 1, 1, 1, 1, 1, 1, 1, 1],\n",
            " [1, 1, 1, 1, 1, 1, 1, 1, 1, 1, 1, 1, 1, 1, 1, 1, 1, 1, 1],\n",
            " [1, 1, 1, 1, 1, 1, 1, 1, 0, 0, 1, 1, 1, 1, 1, 1, 1, 1, 1],\n",
            " [1, 1, 1, 1, 1, 1, 1, 1, 1, 1, 1, 0, 1, 1, 1, 1, 1, 1, 1],\n",
            " [1, 1, 1, 1, 1, 1, 1, 0, 1, 1, 1, 1, 1, 1, 1, 1, 1, 1, 1],\n",
            " [1, 1, 1, 1, 1, 1, 1, 1, 1, 1, 1, 0, 1, 1, 1, 1, 1, 1, 1],\n",
            " [1, 1, 1, 1, 1, 1, 0, 0, 1, 1, 1, 1, 1, 1, 1, 1, 1, 1, 1],\n",
            " [1, 1, 1, 1, 1, 1, 0, 1, 1, 1, 1, 1, 1, 0, 1, 1, 1, 1, 1],\n",
            " [1, 1, 1, 1, 1, 1, 1, 1, 1, 0, 1, 1, 1, 1, 1, 1, 1, 1, 1],\n",
            " [1, 1, 1, 1, 1, 1, 0, 1, 0, 0, 1, 0, 1, 1, 1, 1, 1, 1, 1],\n",
            " [1, 1, 1, 1, 1, 1, 1, 1, 1, 1, 1, 1, 1, 1, 1, 1, 1, 1, 1],\n",
            " [1, 1, 1, 1, 1, 1, 1, 1, 1, 1, 1, 1, 1, 1, 1, 1, 1, 1, 1]]\n"
          ]
        }
      ]
    },
    {
      "cell_type": "code",
      "source": [],
      "metadata": {
        "id": "PI4zz6lsN0Zm"
      },
      "execution_count": null,
      "outputs": []
    }
  ]
}