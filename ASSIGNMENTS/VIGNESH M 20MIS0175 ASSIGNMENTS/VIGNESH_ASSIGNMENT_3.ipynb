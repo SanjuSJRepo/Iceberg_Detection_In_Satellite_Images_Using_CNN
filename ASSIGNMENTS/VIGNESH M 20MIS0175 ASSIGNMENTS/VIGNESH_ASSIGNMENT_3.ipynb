{
  "nbformat": 4,
  "nbformat_minor": 0,
  "metadata": {
    "colab": {
      "provenance": [],
      "gpuType": "T4"
    },
    "kernelspec": {
      "name": "python3",
      "display_name": "Python 3"
    },
    "language_info": {
      "name": "python"
    },
    "accelerator": "GPU"
  },
  "cells": [
    {
      "cell_type": "markdown",
      "source": [
        "# Uploading Dataset"
      ],
      "metadata": {
        "id": "G8TzfNreqaWp"
      }
    },
    {
      "cell_type": "code",
      "source": [
        "! pip install kaggle"
      ],
      "metadata": {
        "colab": {
          "base_uri": "https://localhost:8080/"
        },
        "id": "CV3vCU_Foc1u",
        "outputId": "e061be00-b7cc-43b8-edb5-cc7b79a704b7"
      },
      "execution_count": 7,
      "outputs": [
        {
          "output_type": "stream",
          "name": "stdout",
          "text": [
            "Looking in indexes: https://pypi.org/simple, https://us-python.pkg.dev/colab-wheels/public/simple/\n",
            "Requirement already satisfied: kaggle in /usr/local/lib/python3.10/dist-packages (1.5.13)\n",
            "Requirement already satisfied: six>=1.10 in /usr/local/lib/python3.10/dist-packages (from kaggle) (1.16.0)\n",
            "Requirement already satisfied: certifi in /usr/local/lib/python3.10/dist-packages (from kaggle) (2022.12.7)\n",
            "Requirement already satisfied: python-dateutil in /usr/local/lib/python3.10/dist-packages (from kaggle) (2.8.2)\n",
            "Requirement already satisfied: requests in /usr/local/lib/python3.10/dist-packages (from kaggle) (2.27.1)\n",
            "Requirement already satisfied: tqdm in /usr/local/lib/python3.10/dist-packages (from kaggle) (4.65.0)\n",
            "Requirement already satisfied: python-slugify in /usr/local/lib/python3.10/dist-packages (from kaggle) (8.0.1)\n",
            "Requirement already satisfied: urllib3 in /usr/local/lib/python3.10/dist-packages (from kaggle) (1.26.15)\n",
            "Requirement already satisfied: text-unidecode>=1.3 in /usr/local/lib/python3.10/dist-packages (from python-slugify->kaggle) (1.3)\n",
            "Requirement already satisfied: charset-normalizer~=2.0.0 in /usr/local/lib/python3.10/dist-packages (from requests->kaggle) (2.0.12)\n",
            "Requirement already satisfied: idna<4,>=2.5 in /usr/local/lib/python3.10/dist-packages (from requests->kaggle) (3.4)\n"
          ]
        }
      ]
    },
    {
      "cell_type": "code",
      "execution_count": 8,
      "metadata": {
        "id": "OZIUM7CnnArP",
        "colab": {
          "base_uri": "https://localhost:8080/"
        },
        "outputId": "9b6d5b01-bddb-4b0d-afb1-1da5d2835033"
      },
      "outputs": [
        {
          "output_type": "stream",
          "name": "stdout",
          "text": [
            "mkdir: cannot create directory ‘/root/.kaggle’: File exists\n"
          ]
        }
      ],
      "source": [
        "! mkdir ~/.kaggle"
      ]
    },
    {
      "cell_type": "code",
      "source": [
        "! cp /content/drive/MyDrive/kaggle.json ~/.kaggle/"
      ],
      "metadata": {
        "id": "TpqFQZ6coCyk"
      },
      "execution_count": 9,
      "outputs": []
    },
    {
      "cell_type": "code",
      "source": [
        "! chmod 600 ~/.kaggle/kaggle.json"
      ],
      "metadata": {
        "id": "L60ABKIsokjT"
      },
      "execution_count": 10,
      "outputs": []
    },
    {
      "cell_type": "code",
      "source": [
        "! kaggle datasets download -d akash2907/bird-species-classification"
      ],
      "metadata": {
        "colab": {
          "base_uri": "https://localhost:8080/"
        },
        "id": "EQb1BPGXpWTY",
        "outputId": "d1cda2ff-e3ff-4dd1-83a3-96d4c7834fbf"
      },
      "execution_count": 11,
      "outputs": [
        {
          "output_type": "stream",
          "name": "stdout",
          "text": [
            "bird-species-classification.zip: Skipping, found more recently modified local copy (use --force to force download)\n"
          ]
        }
      ]
    },
    {
      "cell_type": "code",
      "source": [
        "! unzip /content/bird-species-classification.zip"
      ],
      "metadata": {
        "colab": {
          "base_uri": "https://localhost:8080/"
        },
        "id": "tsfXFIG0pxY5",
        "outputId": "44e0a6ed-e10b-4222-f2b6-196be206dbb8"
      },
      "execution_count": 12,
      "outputs": [
        {
          "metadata": {
            "tags": null
          },
          "name": "stdout",
          "output_type": "stream",
          "text": [
            "Archive:  /content/bird-species-classification.zip\n",
            "replace test_data/test_data/blasti/DSC_6396.jpg? [y]es, [n]o, [A]ll, [N]one, [r]ename: "
          ]
        }
      ]
    },
    {
      "cell_type": "markdown",
      "source": [
        "# Data Augmentation"
      ],
      "metadata": {
        "id": "LOJgiBg9qi9C"
      }
    },
    {
      "cell_type": "code",
      "source": [
        "from tensorflow.keras.preprocessing.image import ImageDataGenerator"
      ],
      "metadata": {
        "id": "h5W753ELqQVp"
      },
      "execution_count": 13,
      "outputs": []
    },
    {
      "cell_type": "code",
      "source": [
        "train_gen = ImageDataGenerator(rescale=(1./255),horizontal_flip=True,shear_range=0.2)\n",
        "test_gen = ImageDataGenerator(rescale=(1./255))"
      ],
      "metadata": {
        "id": "0FIvISIKqoEo"
      },
      "execution_count": 14,
      "outputs": []
    },
    {
      "cell_type": "code",
      "source": [
        "train = train_gen.flow_from_directory('/content/train_data/train_data',\n",
        "                                      target_size=(120, 120),\n",
        "                                      class_mode='categorical', \n",
        "                                      batch_size=8)\n",
        "test = test_gen.flow_from_directory('/content/test_data/test_data',\n",
        "                                    target_size=(120, 120),\n",
        "                                      class_mode='categorical', \n",
        "                                      batch_size=8)"
      ],
      "metadata": {
        "colab": {
          "base_uri": "https://localhost:8080/"
        },
        "id": "3BvfBsbaqyrb",
        "outputId": "88749c15-9ad9-4b3d-ff13-853ca973614e"
      },
      "execution_count": 15,
      "outputs": [
        {
          "output_type": "stream",
          "name": "stdout",
          "text": [
            "Found 150 images belonging to 16 classes.\n",
            "Found 157 images belonging to 16 classes.\n"
          ]
        }
      ]
    },
    {
      "cell_type": "code",
      "source": [
        "train.class_indices"
      ],
      "metadata": {
        "colab": {
          "base_uri": "https://localhost:8080/"
        },
        "id": "KKLVg2uMrOkr",
        "outputId": "d0a2204f-c08b-42ee-d6a6-37759e510a82"
      },
      "execution_count": 16,
      "outputs": [
        {
          "output_type": "execute_result",
          "data": {
            "text/plain": [
              "{'blasti': 0,\n",
              " 'bonegl': 1,\n",
              " 'brhkyt': 2,\n",
              " 'cbrtsh': 3,\n",
              " 'cmnmyn': 4,\n",
              " 'gretit': 5,\n",
              " 'hilpig': 6,\n",
              " 'himbul': 7,\n",
              " 'himgri': 8,\n",
              " 'hsparo': 9,\n",
              " 'indvul': 10,\n",
              " 'jglowl': 11,\n",
              " 'lbicrw': 12,\n",
              " 'mgprob': 13,\n",
              " 'rebimg': 14,\n",
              " 'wcrsrt': 15}"
            ]
          },
          "metadata": {},
          "execution_count": 16
        }
      ]
    },
    {
      "cell_type": "markdown",
      "source": [
        "# CNN Training"
      ],
      "metadata": {
        "id": "nGW2u0BNrzaA"
      }
    },
    {
      "cell_type": "code",
      "source": [
        "from tensorflow.keras.layers import Convolution2D,MaxPooling2D,Flatten,Dense\n",
        "from tensorflow.keras.models import Sequential"
      ],
      "metadata": {
        "id": "olbpE6B0r2yA"
      },
      "execution_count": 19,
      "outputs": []
    },
    {
      "cell_type": "code",
      "source": [
        "model = Sequential()\n",
        "model.add(Convolution2D(20,(3,3),activation='relu',input_shape=(120, 120, 3)))\n",
        "model.add(MaxPooling2D(pool_size=(2,2)))\n",
        "model.add(Flatten())\n",
        "model.add(Dense(45,activation='relu'))\n",
        "model.add(Dense(16,activation='softmax'))"
      ],
      "metadata": {
        "id": "5NwJ0N2ur4RK"
      },
      "execution_count": null,
      "outputs": []
    },
    {
      "cell_type": "code",
      "source": [
        "model.compile(optimizer='adam',loss='categorical_crossentropy',metrics=['accuracy'])"
      ],
      "metadata": {
        "id": "xMrpp9EBsg-3"
      },
      "execution_count": null,
      "outputs": []
    },
    {
      "cell_type": "code",
      "source": [
        "model.fit(train,batch_size=8,validation_data=test,epochs=10)"
      ],
      "metadata": {
        "colab": {
          "base_uri": "https://localhost:8080/"
        },
        "id": "2z7f2CuisiuT",
        "outputId": "fe2286f0-8903-4e4c-a56b-60f159ff8f02"
      },
      "execution_count": null,
      "outputs": [
        {
          "output_type": "stream",
          "name": "stdout",
          "text": [
            "Epoch 1/10\n",
            "19/19 [==============================] - 97s 5s/step - loss: 6.2221 - accuracy: 0.0667 - val_loss: 2.9869 - val_accuracy: 0.0637\n",
            "Epoch 2/10\n",
            "19/19 [==============================] - 85s 5s/step - loss: 2.6342 - accuracy: 0.1333 - val_loss: 2.8117 - val_accuracy: 0.0701\n",
            "Epoch 3/10\n",
            "19/19 [==============================] - 86s 5s/step - loss: 2.4430 - accuracy: 0.2200 - val_loss: 2.8150 - val_accuracy: 0.0701\n",
            "Epoch 4/10\n",
            "19/19 [==============================] - 85s 5s/step - loss: 2.3769 - accuracy: 0.2467 - val_loss: 2.7908 - val_accuracy: 0.2229\n",
            "Epoch 5/10\n",
            "19/19 [==============================] - 85s 5s/step - loss: 2.2663 - accuracy: 0.2867 - val_loss: 2.7532 - val_accuracy: 0.1592\n",
            "Epoch 6/10\n",
            "19/19 [==============================] - 86s 5s/step - loss: 2.0998 - accuracy: 0.3200 - val_loss: 2.8547 - val_accuracy: 0.1401\n",
            "Epoch 7/10\n",
            "19/19 [==============================] - 85s 5s/step - loss: 2.0325 - accuracy: 0.3400 - val_loss: 2.8335 - val_accuracy: 0.1847\n",
            "Epoch 8/10\n",
            "19/19 [==============================] - 85s 5s/step - loss: 1.9366 - accuracy: 0.3667 - val_loss: 2.9843 - val_accuracy: 0.1338\n",
            "Epoch 9/10\n",
            "19/19 [==============================] - 85s 5s/step - loss: 1.8071 - accuracy: 0.4400 - val_loss: 2.9625 - val_accuracy: 0.2229\n",
            "Epoch 10/10\n",
            "19/19 [==============================] - 84s 5s/step - loss: 1.6520 - accuracy: 0.4733 - val_loss: 2.8903 - val_accuracy: 0.2166\n"
          ]
        },
        {
          "output_type": "execute_result",
          "data": {
            "text/plain": [
              "<keras.callbacks.History at 0x7fbd2836c460>"
            ]
          },
          "metadata": {},
          "execution_count": 15
        }
      ]
    },
    {
      "cell_type": "code",
      "source": [
        "model.save('birdWeights.h5')"
      ],
      "metadata": {
        "id": "tyJk0Fo9tbC_"
      },
      "execution_count": null,
      "outputs": []
    },
    {
      "cell_type": "markdown",
      "source": [
        "# Testing"
      ],
      "metadata": {
        "id": "OVUzRwrrthc3"
      }
    },
    {
      "cell_type": "code",
      "source": [
        "import numpy as np\n",
        "from tensorflow.keras.preprocessing import image"
      ],
      "metadata": {
        "id": "4top1VyItlNQ"
      },
      "execution_count": 26,
      "outputs": []
    },
    {
      "cell_type": "code",
      "source": [
        "img = image.load_img('/content/train_data/train_data/himgri/12029822653_1185544e7b_o.jpg',target_size=(120,120))"
      ],
      "metadata": {
        "id": "eDvhgLa-trBh"
      },
      "execution_count": null,
      "outputs": []
    },
    {
      "cell_type": "code",
      "source": [
        "img"
      ],
      "metadata": {
        "colab": {
          "base_uri": "https://localhost:8080/",
          "height": 137
        },
        "id": "grc1tYbctthI",
        "outputId": "36078fad-5022-43e8-e7c7-6f0c3d587726"
      },
      "execution_count": null,
      "outputs": [
        {
          "output_type": "execute_result",
          "data": {
            "text/plain": [
              "<PIL.Image.Image image mode=RGB size=120x120 at 0x7FBD280E2110>"
            ],
            "image/png": "[encoded data removed]"
          },
          "metadata": {},
          "execution_count": 43
        }
      ]
    },
    {
      "cell_type": "code",
      "source": [
        "img = image.img_to_array(img)\n",
        "img"
      ],
      "metadata": {
        "colab": {
          "base_uri": "https://localhost:8080/"
        },
        "id": "Iu3vFTMetyd_",
        "outputId": "e1a65313-5812-4891-f3ef-59e157d89b10"
      },
      "execution_count": null,
      "outputs": [
        {
          "output_type": "execute_result",
          "data": {
            "text/plain": [
              "array([[[138., 184., 234.],\n",
              "        [135., 182., 234.],\n",
              "        [142., 188., 238.],\n",
              "        ...,\n",
              "        [225., 245., 252.],\n",
              "        [222., 240., 250.],\n",
              "        [225., 243., 253.]],\n",
              "\n",
              "       [[143., 186., 237.],\n",
              "        [139., 182., 235.],\n",
              "        [133., 183., 232.],\n",
              "        ...,\n",
              "        [226., 244., 254.],\n",
              "        [230., 248., 255.],\n",
              "        [227., 247., 255.]],\n",
              "\n",
              "       [[142., 184., 234.],\n",
              "        [135., 182., 236.],\n",
              "        [143., 182., 237.],\n",
              "        ...,\n",
              "        [233., 247., 255.],\n",
              "        [227., 245., 255.],\n",
              "        [226., 246., 255.]],\n",
              "\n",
              "       ...,\n",
              "\n",
              "       [[132., 182., 231.],\n",
              "        [134., 181., 235.],\n",
              "        [136., 182., 234.],\n",
              "        ...,\n",
              "        [146., 186., 235.],\n",
              "        [144., 186., 236.],\n",
              "        [148., 186., 233.]],\n",
              "\n",
              "       [[133., 180., 234.],\n",
              "        [133., 179., 229.],\n",
              "        [139., 182., 235.],\n",
              "        ...,\n",
              "        [144., 188., 237.],\n",
              "        [143., 189., 241.],\n",
              "        [147., 187., 236.]],\n",
              "\n",
              "       [[134., 181., 235.],\n",
              "        [134., 181., 235.],\n",
              "        [135., 181., 231.],\n",
              "        ...,\n",
              "        [149., 189., 238.],\n",
              "        [142., 183., 235.],\n",
              "        [144., 184., 235.]]], dtype=float32)"
            ]
          },
          "metadata": {},
          "execution_count": 44
        }
      ]
    },
    {
      "cell_type": "code",
      "source": [
        "img = np.expand_dims(img,axis=0)\n",
        "img"
      ],
      "metadata": {
        "colab": {
          "base_uri": "https://localhost:8080/"
        },
        "id": "zRTb6TQNt13e",
        "outputId": "3d724e67-afb2-4346-ae6f-5c80ae6ab3b4"
      },
      "execution_count": null,
      "outputs": [
        {
          "output_type": "execute_result",
          "data": {
            "text/plain": [
              "array([[[[138., 184., 234.],\n",
              "         [135., 182., 234.],\n",
              "         [142., 188., 238.],\n",
              "         ...,\n",
              "         [225., 245., 252.],\n",
              "         [222., 240., 250.],\n",
              "         [225., 243., 253.]],\n",
              "\n",
              "        [[143., 186., 237.],\n",
              "         [139., 182., 235.],\n",
              "         [133., 183., 232.],\n",
              "         ...,\n",
              "         [226., 244., 254.],\n",
              "         [230., 248., 255.],\n",
              "         [227., 247., 255.]],\n",
              "\n",
              "        [[142., 184., 234.],\n",
              "         [135., 182., 236.],\n",
              "         [143., 182., 237.],\n",
              "         ...,\n",
              "         [233., 247., 255.],\n",
              "         [227., 245., 255.],\n",
              "         [226., 246., 255.]],\n",
              "\n",
              "        ...,\n",
              "\n",
              "        [[132., 182., 231.],\n",
              "         [134., 181., 235.],\n",
              "         [136., 182., 234.],\n",
              "         ...,\n",
              "         [146., 186., 235.],\n",
              "         [144., 186., 236.],\n",
              "         [148., 186., 233.]],\n",
              "\n",
              "        [[133., 180., 234.],\n",
              "         [133., 179., 229.],\n",
              "         [139., 182., 235.],\n",
              "         ...,\n",
              "         [144., 188., 237.],\n",
              "         [143., 189., 241.],\n",
              "         [147., 187., 236.]],\n",
              "\n",
              "        [[134., 181., 235.],\n",
              "         [134., 181., 235.],\n",
              "         [135., 181., 231.],\n",
              "         ...,\n",
              "         [149., 189., 238.],\n",
              "         [142., 183., 235.],\n",
              "         [144., 184., 235.]]]], dtype=float32)"
            ]
          },
          "metadata": {},
          "execution_count": 45
        }
      ]
    },
    {
      "cell_type": "code",
      "source": [
        "model.predict(img)"
      ],
      "metadata": {
        "colab": {
          "base_uri": "https://localhost:8080/"
        },
        "id": "M62NS9xMy7zo",
        "outputId": "c6d3547d-4160-4071-fb89-6610fa5734c1"
      },
      "execution_count": null,
      "outputs": [
        {
          "output_type": "stream",
          "name": "stdout",
          "text": [
            "1/1 [==============================] - 0s 18ms/step\n"
          ]
        },
        {
          "output_type": "execute_result",
          "data": {
            "text/plain": [
              "array([[0., 0., 0., 0., 0., 0., 0., 0., 1., 0., 0., 0., 0., 0., 0., 0.]],\n",
              "      dtype=float32)"
            ]
          },
          "metadata": {},
          "execution_count": 46
        }
      ]
    },
    {
      "cell_type": "code",
      "source": [
        "pred = np.argmax(model.predict(img))"
      ],
      "metadata": {
        "colab": {
          "base_uri": "https://localhost:8080/"
        },
        "id": "WH6tCKPIt2ew",
        "outputId": "fe1574d2-b662-4f81-9d3e-1c76527d3e53"
      },
      "execution_count": null,
      "outputs": [
        {
          "output_type": "stream",
          "name": "stdout",
          "text": [
            "1/1 [==============================] - 0s 25ms/step\n"
          ]
        }
      ]
    },
    {
      "cell_type": "code",
      "source": [
        "import os\n",
        "output = os.listdir('/content/train_data/train_data')\n",
        "output"
      ],
      "metadata": {
        "colab": {
          "base_uri": "https://localhost:8080/"
        },
        "id": "PtGxNlV_0xl2",
        "outputId": "eb300259-33dc-43d4-ffd6-be368d3b02e2"
      },
      "execution_count": 28,
      "outputs": [
        {
          "output_type": "execute_result",
          "data": {
            "text/plain": [
              "['hsparo',\n",
              " 'himbul',\n",
              " 'indvul',\n",
              " 'gretit',\n",
              " 'himgri',\n",
              " 'wcrsrt',\n",
              " 'mgprob',\n",
              " 'hilpig',\n",
              " 'jglowl',\n",
              " 'rebimg',\n",
              " 'cmnmyn',\n",
              " 'lbicrw',\n",
              " 'blasti',\n",
              " 'brhkyt',\n",
              " 'cbrtsh',\n",
              " 'bonegl']"
            ]
          },
          "metadata": {},
          "execution_count": 28
        }
      ]
    },
    {
      "cell_type": "code",
      "source": [
        "output[pred]"
      ],
      "metadata": {
        "colab": {
          "base_uri": "https://localhost:8080/",
          "height": 35
        },
        "id": "rOO6hOU71spE",
        "outputId": "f5d39173-b73c-4f1c-9727-6bc6b3469fea"
      },
      "execution_count": null,
      "outputs": [
        {
          "output_type": "execute_result",
          "data": {
            "text/plain": [
              "'jglowl'"
            ],
            "application/vnd.google.colaboratory.intrinsic+json": {
              "type": "string"
            }
          },
          "metadata": {},
          "execution_count": 49
        }
      ]
    },
    {
      "cell_type": "markdown",
      "source": [
        "# model tuning"
      ],
      "metadata": {
        "id": "34sa_rTt4BCk"
      }
    },
    {
      "cell_type": "code",
      "source": [
        "from tensorflow.keras.layers import BatchNormalization, Dropout"
      ],
      "metadata": {
        "id": "f8Nu3fjn58nU"
      },
      "execution_count": 17,
      "outputs": []
    },
    {
      "cell_type": "code",
      "source": [
        "# Initializing the seq model\n",
        "model = Sequential()\n",
        "# Adding conv layer with input\n",
        "model.add(Convolution2D(12,(3,3),activation='relu',input_shape=(120, 120, 3)))\n",
        "# Normalizing the conv layer output\n",
        "model.add(BatchNormalization())\n",
        "# Selecting the max values\n",
        "model.add(MaxPooling2D(pool_size=(2,2)))\n",
        "# Dropping the unwanted 20% of data\n",
        "model.add(Dropout(0.2))\n",
        "model.add(Convolution2D(24,(3,3),activation='relu'))\n",
        "model.add(BatchNormalization())\n",
        "model.add(MaxPooling2D(pool_size=(2,2)))\n",
        "model.add(Dropout(0.2))\n",
        "model.add(Convolution2D(36,(3,3),activation='relu'))\n",
        "model.add(BatchNormalization())\n",
        "model.add(MaxPooling2D(pool_size=(2,2)))\n",
        "model.add(Dropout(0.2))\n",
        "model.add(Flatten())\n",
        "# Hiddern layers\n",
        "model.add(Dense(62,activation='relu'))\n",
        "model.add(BatchNormalization())\n",
        "model.add(Dropout(0.1))\n",
        "model.add(Dense(32,activation='relu'))\n",
        "# Output layer\n",
        "model.add(Dense(16,activation='softmax'))"
      ],
      "metadata": {
        "id": "jmb-xN0K4DVe"
      },
      "execution_count": 20,
      "outputs": []
    },
    {
      "cell_type": "code",
      "source": [
        "model.compile(optimizer='adam',loss='categorical_crossentropy',metrics=['accuracy'])"
      ],
      "metadata": {
        "id": "QcCWxnNz4Fhb"
      },
      "execution_count": 21,
      "outputs": []
    },
    {
      "cell_type": "code",
      "source": [
        "from tensorflow.keras.callbacks import EarlyStopping"
      ],
      "metadata": {
        "id": "fk0fOkkR4MVV"
      },
      "execution_count": 22,
      "outputs": []
    },
    {
      "cell_type": "code",
      "source": [
        "early_stop = EarlyStopping(monitor='accuracy',patience=8)"
      ],
      "metadata": {
        "id": "3o3R8cjd8PDZ"
      },
      "execution_count": 23,
      "outputs": []
    },
    {
      "cell_type": "code",
      "source": [
        "model.fit(train,batch_size=8,validation_data=test,epochs=50,callbacks=early_stop)"
      ],
      "metadata": {
        "colab": {
          "base_uri": "https://localhost:8080/"
        },
        "id": "xvPMZf4J80JD",
        "outputId": "8d8feb93-5e04-43bb-e478-6c1057cee431"
      },
      "execution_count": 24,
      "outputs": [
        {
          "output_type": "stream",
          "name": "stdout",
          "text": [
            "Epoch 1/50\n",
            "19/19 [==============================] - 100s 5s/step - loss: 2.8880 - accuracy: 0.1267 - val_loss: 2.7864 - val_accuracy: 0.0955\n",
            "Epoch 2/50\n",
            "19/19 [==============================] - 85s 5s/step - loss: 2.3296 - accuracy: 0.3000 - val_loss: 3.1306 - val_accuracy: 0.0955\n",
            "Epoch 3/50\n",
            "19/19 [==============================] - 87s 5s/step - loss: 2.1225 - accuracy: 0.3467 - val_loss: 3.5168 - val_accuracy: 0.0955\n",
            "Epoch 4/50\n",
            "19/19 [==============================] - 87s 5s/step - loss: 1.9575 - accuracy: 0.4133 - val_loss: 3.6682 - val_accuracy: 0.1019\n",
            "Epoch 5/50\n",
            "19/19 [==============================] - 85s 5s/step - loss: 1.8359 - accuracy: 0.4400 - val_loss: 4.3171 - val_accuracy: 0.0955\n",
            "Epoch 6/50\n",
            "19/19 [==============================] - 118s 6s/step - loss: 1.6932 - accuracy: 0.5133 - val_loss: 4.6442 - val_accuracy: 0.0573\n",
            "Epoch 7/50\n",
            "19/19 [==============================] - 85s 5s/step - loss: 1.5261 - accuracy: 0.5667 - val_loss: 4.4964 - val_accuracy: 0.0573\n",
            "Epoch 8/50\n",
            "19/19 [==============================] - 85s 5s/step - loss: 1.4981 - accuracy: 0.5867 - val_loss: 5.0589 - val_accuracy: 0.1656\n",
            "Epoch 9/50\n",
            "19/19 [==============================] - 85s 5s/step - loss: 1.4942 - accuracy: 0.5800 - val_loss: 4.9464 - val_accuracy: 0.1529\n",
            "Epoch 10/50\n",
            "19/19 [==============================] - 119s 6s/step - loss: 1.4338 - accuracy: 0.5867 - val_loss: 4.6593 - val_accuracy: 0.1720\n",
            "Epoch 11/50\n",
            "19/19 [==============================] - 88s 5s/step - loss: 1.3077 - accuracy: 0.6800 - val_loss: 4.6994 - val_accuracy: 0.1529\n",
            "Epoch 12/50\n",
            "19/19 [==============================] - 85s 5s/step - loss: 1.1597 - accuracy: 0.6733 - val_loss: 4.7667 - val_accuracy: 0.1019\n",
            "Epoch 13/50\n",
            "19/19 [==============================] - 86s 5s/step - loss: 1.2506 - accuracy: 0.6467 - val_loss: 4.5082 - val_accuracy: 0.2038\n",
            "Epoch 14/50\n",
            "19/19 [==============================] - 88s 5s/step - loss: 1.0932 - accuracy: 0.6933 - val_loss: 4.2182 - val_accuracy: 0.1783\n",
            "Epoch 15/50\n",
            "19/19 [==============================] - 86s 5s/step - loss: 1.0430 - accuracy: 0.6933 - val_loss: 4.7296 - val_accuracy: 0.1146\n",
            "Epoch 16/50\n",
            "19/19 [==============================] - 87s 5s/step - loss: 0.9415 - accuracy: 0.7467 - val_loss: 4.4108 - val_accuracy: 0.1210\n",
            "Epoch 17/50\n",
            "19/19 [==============================] - 119s 6s/step - loss: 1.1050 - accuracy: 0.7067 - val_loss: 4.3823 - val_accuracy: 0.1592\n",
            "Epoch 18/50\n",
            "19/19 [==============================] - 86s 5s/step - loss: 0.9116 - accuracy: 0.7400 - val_loss: 5.1202 - val_accuracy: 0.1975\n",
            "Epoch 19/50\n",
            "19/19 [==============================] - 87s 5s/step - loss: 0.8460 - accuracy: 0.7600 - val_loss: 4.5594 - val_accuracy: 0.1019\n",
            "Epoch 20/50\n",
            "19/19 [==============================] - 120s 7s/step - loss: 0.7099 - accuracy: 0.8333 - val_loss: 4.2852 - val_accuracy: 0.1210\n",
            "Epoch 21/50\n",
            "19/19 [==============================] - 87s 5s/step - loss: 0.7052 - accuracy: 0.8200 - val_loss: 4.0704 - val_accuracy: 0.1656\n",
            "Epoch 22/50\n",
            "19/19 [==============================] - 88s 5s/step - loss: 0.6302 - accuracy: 0.8067 - val_loss: 4.3513 - val_accuracy: 0.1529\n",
            "Epoch 23/50\n",
            "19/19 [==============================] - 87s 5s/step - loss: 0.6867 - accuracy: 0.8467 - val_loss: 4.1338 - val_accuracy: 0.1656\n",
            "Epoch 24/50\n",
            "19/19 [==============================] - 85s 5s/step - loss: 0.5503 - accuracy: 0.8733 - val_loss: 3.7443 - val_accuracy: 0.1720\n",
            "Epoch 25/50\n",
            "19/19 [==============================] - 85s 5s/step - loss: 0.5031 - accuracy: 0.9000 - val_loss: 3.9050 - val_accuracy: 0.1656\n",
            "Epoch 26/50\n",
            "19/19 [==============================] - 119s 7s/step - loss: 0.5846 - accuracy: 0.8533 - val_loss: 3.8887 - val_accuracy: 0.1210\n",
            "Epoch 27/50\n",
            "19/19 [==============================] - 119s 6s/step - loss: 0.5437 - accuracy: 0.8533 - val_loss: 3.7084 - val_accuracy: 0.2357\n",
            "Epoch 28/50\n",
            "19/19 [==============================] - 86s 5s/step - loss: 0.6285 - accuracy: 0.8000 - val_loss: 3.6816 - val_accuracy: 0.2739\n",
            "Epoch 29/50\n",
            "19/19 [==============================] - 87s 5s/step - loss: 0.7714 - accuracy: 0.7667 - val_loss: 3.5926 - val_accuracy: 0.2548\n",
            "Epoch 30/50\n",
            "19/19 [==============================] - 86s 5s/step - loss: 0.5765 - accuracy: 0.8800 - val_loss: 3.5482 - val_accuracy: 0.2293\n",
            "Epoch 31/50\n",
            "19/19 [==============================] - 86s 5s/step - loss: 0.5598 - accuracy: 0.8267 - val_loss: 3.3051 - val_accuracy: 0.2930\n",
            "Epoch 32/50\n",
            "19/19 [==============================] - 85s 5s/step - loss: 0.3922 - accuracy: 0.9000 - val_loss: 3.2160 - val_accuracy: 0.2866\n",
            "Epoch 33/50\n",
            "19/19 [==============================] - 86s 5s/step - loss: 0.4516 - accuracy: 0.9067 - val_loss: 3.8766 - val_accuracy: 0.2357\n",
            "Epoch 34/50\n",
            "19/19 [==============================] - 86s 5s/step - loss: 0.4550 - accuracy: 0.8800 - val_loss: 3.6631 - val_accuracy: 0.1720\n",
            "Epoch 35/50\n",
            "19/19 [==============================] - 85s 5s/step - loss: 0.6359 - accuracy: 0.8267 - val_loss: 2.9624 - val_accuracy: 0.2229\n",
            "Epoch 36/50\n",
            "19/19 [==============================] - 86s 5s/step - loss: 0.4840 - accuracy: 0.8600 - val_loss: 3.1375 - val_accuracy: 0.2930\n",
            "Epoch 37/50\n",
            "19/19 [==============================] - 85s 5s/step - loss: 0.4001 - accuracy: 0.9067 - val_loss: 3.0922 - val_accuracy: 0.2866\n",
            "Epoch 38/50\n",
            "19/19 [==============================] - 85s 5s/step - loss: 0.2884 - accuracy: 0.9200 - val_loss: 3.2644 - val_accuracy: 0.2611\n",
            "Epoch 39/50\n",
            "19/19 [==============================] - 86s 5s/step - loss: 0.3310 - accuracy: 0.9133 - val_loss: 3.0736 - val_accuracy: 0.2930\n",
            "Epoch 40/50\n",
            "19/19 [==============================] - 84s 5s/step - loss: 0.2489 - accuracy: 0.9533 - val_loss: 3.1627 - val_accuracy: 0.2866\n",
            "Epoch 41/50\n",
            "19/19 [==============================] - 86s 5s/step - loss: 0.2430 - accuracy: 0.9400 - val_loss: 3.0414 - val_accuracy: 0.2739\n",
            "Epoch 42/50\n",
            "19/19 [==============================] - 85s 5s/step - loss: 0.2490 - accuracy: 0.9333 - val_loss: 3.1582 - val_accuracy: 0.2803\n",
            "Epoch 43/50\n",
            "19/19 [==============================] - 85s 5s/step - loss: 0.2685 - accuracy: 0.9267 - val_loss: 3.6816 - val_accuracy: 0.2548\n",
            "Epoch 44/50\n",
            "19/19 [==============================] - 86s 5s/step - loss: 0.3034 - accuracy: 0.9133 - val_loss: 3.4862 - val_accuracy: 0.2293\n",
            "Epoch 45/50\n",
            "19/19 [==============================] - 84s 5s/step - loss: 0.2597 - accuracy: 0.9333 - val_loss: 3.3326 - val_accuracy: 0.2803\n",
            "Epoch 46/50\n",
            "19/19 [==============================] - 84s 5s/step - loss: 0.2534 - accuracy: 0.9467 - val_loss: 3.3866 - val_accuracy: 0.2803\n",
            "Epoch 47/50\n",
            "19/19 [==============================] - 85s 5s/step - loss: 0.2704 - accuracy: 0.9333 - val_loss: 3.7071 - val_accuracy: 0.1975\n",
            "Epoch 48/50\n",
            "19/19 [==============================] - 84s 5s/step - loss: 0.3389 - accuracy: 0.9267 - val_loss: 3.2706 - val_accuracy: 0.2484\n"
          ]
        },
        {
          "output_type": "execute_result",
          "data": {
            "text/plain": [
              "<keras.callbacks.History at 0x7fd3b852c190>"
            ]
          },
          "metadata": {},
          "execution_count": 24
        }
      ]
    },
    {
      "cell_type": "code",
      "source": [
        "img1 = image.load_img('/content/train_data/train_data/himgri/12029822653_1185544e7b_o.jpg',target_size=(120,120))"
      ],
      "metadata": {
        "id": "XTmEOlVb9c1Q"
      },
      "execution_count": 27,
      "outputs": []
    },
    {
      "cell_type": "code",
      "source": [
        "img1"
      ],
      "metadata": {
        "colab": {
          "base_uri": "https://localhost:8080/"
        },
        "id": "NKOR7wASQzeJ",
        "outputId": "54e7e51e-159e-44de-d6c2-eb91dfe16b4b"
      },
      "execution_count": 32,
      "outputs": [
        {
          "output_type": "execute_result",
          "data": {
            "text/plain": [
              "array([[[[138., 184., 234.],\n",
              "         [135., 182., 234.],\n",
              "         [142., 188., 238.],\n",
              "         ...,\n",
              "         [225., 245., 252.],\n",
              "         [222., 240., 250.],\n",
              "         [225., 243., 253.]],\n",
              "\n",
              "        [[143., 186., 237.],\n",
              "         [139., 182., 235.],\n",
              "         [133., 183., 232.],\n",
              "         ...,\n",
              "         [226., 244., 254.],\n",
              "         [230., 248., 255.],\n",
              "         [227., 247., 255.]],\n",
              "\n",
              "        [[142., 184., 234.],\n",
              "         [135., 182., 236.],\n",
              "         [143., 182., 237.],\n",
              "         ...,\n",
              "         [233., 247., 255.],\n",
              "         [227., 245., 255.],\n",
              "         [226., 246., 255.]],\n",
              "\n",
              "        ...,\n",
              "\n",
              "        [[132., 182., 231.],\n",
              "         [134., 181., 235.],\n",
              "         [136., 182., 234.],\n",
              "         ...,\n",
              "         [146., 186., 235.],\n",
              "         [144., 186., 236.],\n",
              "         [148., 186., 233.]],\n",
              "\n",
              "        [[133., 180., 234.],\n",
              "         [133., 179., 229.],\n",
              "         [139., 182., 235.],\n",
              "         ...,\n",
              "         [144., 188., 237.],\n",
              "         [143., 189., 241.],\n",
              "         [147., 187., 236.]],\n",
              "\n",
              "        [[134., 181., 235.],\n",
              "         [134., 181., 235.],\n",
              "         [135., 181., 231.],\n",
              "         ...,\n",
              "         [149., 189., 238.],\n",
              "         [142., 183., 235.],\n",
              "         [144., 184., 235.]]]], dtype=float32)"
            ]
          },
          "metadata": {},
          "execution_count": 32
        }
      ]
    },
    {
      "cell_type": "code",
      "source": [
        "model.predict(img1)\n",
        "pred = np.argmax(model.predict(img1))\n",
        "output[pred]"
      ],
      "metadata": {
        "id": "k6r5Utlc9itx",
        "colab": {
          "base_uri": "https://localhost:8080/",
          "height": 70
        },
        "outputId": "d0559fd5-d244-4863-99a3-98687d35b1db"
      },
      "execution_count": 33,
      "outputs": [
        {
          "output_type": "stream",
          "name": "stdout",
          "text": [
            "1/1 [==============================] - 0s 240ms/step\n",
            "1/1 [==============================] - 0s 22ms/step\n"
          ]
        },
        {
          "output_type": "execute_result",
          "data": {
            "text/plain": [
              "'himgri'"
            ],
            "application/vnd.google.colaboratory.intrinsic+json": {
              "type": "string"
            }
          },
          "metadata": {},
          "execution_count": 33
        }
      ]
    }
  ]
}